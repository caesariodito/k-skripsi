{
 "cells": [
  {
   "cell_type": "code",
   "execution_count": 2,
   "metadata": {},
   "outputs": [],
   "source": [
    "import os\n",
    "import shutil\n",
    "\n",
    "# specify the directory you want to scan for files\n",
    "source_dir = '../dataset/realworld_test_data/processed/version2_script'\n",
    "\n",
    "# specify the base directory where you want to move the files\n",
    "base_target_dir = '../dataset/realworld_test_data/processed/version2_grouped'\n",
    "\n",
    "# iterate over all files in the source directory\n",
    "for filename in os.listdir(source_dir):\n",
    "    # separate the base name and extension\n",
    "    basename, extension = os.path.splitext(filename)\n",
    "\n",
    "    # get the last 2 digits from the base name\n",
    "    category = basename[-2:]\n",
    "\n",
    "    # create a new directory path based on the category\n",
    "    target_dir = os.path.join(base_target_dir, category)\n",
    "\n",
    "    # create the directory if it doesn't exist\n",
    "    os.makedirs(target_dir, exist_ok=True)\n",
    "\n",
    "    # construct full file paths\n",
    "    source_file = os.path.join(source_dir, filename)\n",
    "    target_file = os.path.join(target_dir, filename)\n",
    "\n",
    "    # copy the file\n",
    "    shutil.copy(source_file, target_file)"
   ]
  }
 ],
 "metadata": {
  "kernelspec": {
   "display_name": "venv",
   "language": "python",
   "name": "python3"
  },
  "language_info": {
   "codemirror_mode": {
    "name": "ipython",
    "version": 3
   },
   "file_extension": ".py",
   "mimetype": "text/x-python",
   "name": "python",
   "nbconvert_exporter": "python",
   "pygments_lexer": "ipython3",
   "version": "3.11.5"
  }
 },
 "nbformat": 4,
 "nbformat_minor": 2
}
