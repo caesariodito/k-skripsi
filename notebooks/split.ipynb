{
 "cells": [
  {
   "cell_type": "code",
   "execution_count": null,
   "metadata": {},
   "outputs": [],
   "source": [
    "import os\n",
    "import shutil\n",
    "from sklearn.model_selection import train_test_split\n",
    "\n",
    "# Set the seed for reproducibility\n",
    "random_state = 42\n",
    "\n",
    "# Set the desired split ratios\n",
    "train_ratio = 0.9\n",
    "val_ratio = 0.05\n",
    "test_ratio = 0.05\n",
    "\n",
    "# Set the path to the data directory\n",
    "data_dir = 'data'\n",
    "\n",
    "# Create the train, val, and test directories\n",
    "train_dir = os.path.join(data_dir, 'train')\n",
    "val_dir = os.path.join(data_dir, 'val')\n",
    "test_dir = os.path.join(data_dir, 'test')\n",
    "os.makedirs(train_dir, exist_ok=True)\n",
    "os.makedirs(val_dir, exist_ok=True)\n",
    "os.makedirs(test_dir, exist_ok=True)\n",
    "\n",
    "# Get the list of classes\n",
    "classes = [d for d in os.listdir(data_dir) if os.path.isdir(os.path.join(data_dir, d)) and d not in ['train', 'val', 'test']]\n",
    "\n",
    "# Split the data for each class\n",
    "for c in classes:\n",
    "    # Create the class subdirectories in train, val, and test directories\n",
    "    os.makedirs(os.path.join(train_dir, c), exist_ok=True)\n",
    "    os.makedirs(os.path.join(val_dir, c), exist_ok=True)\n",
    "    os.makedirs(os.path.join(test_dir, c), exist_ok=True)\n",
    "\n",
    "    # Get the list of images for the current class\n",
    "    class_dir = os.path.join(data_dir, c)\n",
    "    images = [f for f in os.listdir(class_dir) if os.path.isfile(os.path.join(class_dir, f))]\n",
    "\n",
    "    # Split the images into train, val, and test sets\n",
    "    train_images, temp_images = train_test_split(images, train_size=train_ratio, random_state=random_state)\n",
    "    val_images, test_images = train_test_split(temp_images, train_size=val_ratio/(val_ratio + test_ratio), random_state=random_state)\n",
    "\n",
    "    # Move the images to the corresponding directories\n",
    "    for img in train_images:\n",
    "        shutil.move(os.path.join(class_dir, img), os.path.join(train_dir, c))\n",
    "    for img in val_images:\n",
    "        shutil.move(os.path.join(class_dir, img), os.path.join(val_dir, c))\n",
    "    for img in test_images:\n",
    "        shutil.move(os.path.join(class_dir, img), os.path.join(test_dir, c))"
   ]
  }
 ],
 "metadata": {
  "kernelspec": {
   "display_name": "venv",
   "language": "python",
   "name": "python3"
  },
  "language_info": {
   "name": "python",
   "version": "3.11.1"
  },
  "orig_nbformat": 4
 },
 "nbformat": 4,
 "nbformat_minor": 2
}
